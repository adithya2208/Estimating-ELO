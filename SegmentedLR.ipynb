{
 "cells": [
  {
   "cell_type": "code",
   "execution_count": 1,
   "metadata": {},
   "outputs": [],
   "source": [
    "import pyspark\n",
    "import os\n",
    "import sys\n",
    "import pandas as pd\n",
    "import numpy as np\n",
    "import matplotlib.pyplot as plt \n",
    "from matplotlib.pyplot import figure\n",
    "from pyspark.ml.regression import LinearRegression\n",
    "from pyspark.ml.feature import VectorAssembler\n",
    "from pyspark.sql import SparkSession"
   ]
  },
  {
   "cell_type": "code",
   "execution_count": 2,
   "metadata": {
    "scrolled": true
   },
   "outputs": [],
   "source": [
    "os.chdir('../Project/finding-elo/')\n",
    "sc = pyspark.SparkContext()\n",
    "spark = SparkSession(sc)\n"
   ]
  },
  {
   "cell_type": "code",
   "execution_count": 3,
   "metadata": {},
   "outputs": [],
   "source": [
    "games = sc.textFile('data_uci.pgn')\n",
    "games = games.map(lambda l:l.rstrip())"
   ]
  },
  {
   "cell_type": "code",
   "execution_count": 4,
   "metadata": {},
   "outputs": [],
   "source": [
    "def myfunc(a):\n",
    "    if \"1/2\" in a:\n",
    "        return 0\n",
    "    if \"1-0\" in a:\n",
    "        return 1\n",
    "    else:\n",
    "        return -1\n",
    "\n",
    "def eval_moves(moves):\n",
    "    score = 0\n",
    "    for i in range(len(moves)-1):\n",
    "        score = score + moves[i+1] - moves[i]\n",
    "    return score\n",
    "        "
   ]
  },
  {
   "cell_type": "code",
   "execution_count": 5,
   "metadata": {},
   "outputs": [],
   "source": [
    "result = games.filter(lambda l:\"Result\" in l).map(lambda l: myfunc(l)).zipWithIndex().filter(lambda vi: vi[1] < 25000).map(lambda l:(l[1],l[0]))\n",
    "whiteelo = games.filter(lambda l: \"WhiteElo\" in l).map(lambda l:int(l.split()[1][1:5])).zipWithIndex().map(lambda l:(l[1],l[0]))\n",
    "blackelo = games.filter(lambda l: \"BlackElo\" in l).map(lambda l:int(l.split()[1][1:5])).zipWithIndex().map(lambda l:(l[1],l[0]))\n",
    "stockfish = sc.textFile('stockfish.csv').filter(lambda l: 'Event' not in l).map(lambda l:[0]+[int(x) for x in l.split(',')[1].split(\" \") if x!=''])\\\n",
    ".map(lambda l: eval_moves(l)).zipWithIndex().filter(lambda vi: vi[1] < 25000).map(lambda l:(l[1],l[0]))\n",
    "\n"
   ]
  },
  {
   "cell_type": "code",
   "execution_count": 6,
   "metadata": {},
   "outputs": [
    {
     "name": "stdout",
     "output_type": "stream",
     "text": [
      "+------------+------------+-----------+------+-----+\n",
      "|white_rating|black_rating|rating_diff|result|score|\n",
      "+------------+------------+-----------+------+-----+\n",
      "|        2354|        2411|        -57|     0|   54|\n",
      "|        2684|        2403|        281|     0| -185|\n",
      "|        2101|        1767|        334|     1| 5193|\n",
      "|        2269|        2469|       -200|    -1|  368|\n",
      "|        1279|        1813|       -534|    -1| -829|\n",
      "|        2600|        2327|        273|     1| 1750|\n",
      "|        1786|        1622|        164|     1|  370|\n",
      "|        2361|        2362|         -1|     1|  566|\n",
      "|        2546|        2589|        -43|    -1| -394|\n",
      "|        2084|        2218|       -134|     0|  108|\n",
      "|        2512|        2536|        -24|     0|   49|\n",
      "|        2093|        1799|        294|     1|  463|\n",
      "|        2333|        2320|         13|     0|   11|\n",
      "|        2265|        2247|         18|     0|    0|\n",
      "|        2266|        2462|       -196|     0|   62|\n",
      "|        2157|        2481|       -324|    -1|  -64|\n",
      "|        2553|        2052|        501|     1|  410|\n",
      "|        2423|        2341|         82|     0|  -21|\n",
      "|        2157|        2271|       -114|     1|  881|\n",
      "|        2056|        2326|       -270|    -1| -481|\n",
      "+------------+------------+-----------+------+-----+\n",
      "only showing top 20 rows\n",
      "\n"
     ]
    }
   ],
   "source": [
    "\n",
    "temp = whiteelo.join(blackelo).join(result).join(stockfish).map(lambda l:[l[1][0][0][0],l[1][0][0][1],l[1][0][0][0]-l[1][0][0][1],l[1][0][1],l[1][1]])\n",
    "df = temp.toDF(['white_rating','black_rating','rating_diff','result','score'])\n",
    "df.show()"
   ]
  },
  {
   "cell_type": "code",
   "execution_count": 7,
   "metadata": {},
   "outputs": [
    {
     "name": "stdout",
     "output_type": "stream",
     "text": [
      "+------------------+------------+---------+\n",
      "|        prediction|white_rating| features|\n",
      "+------------------+------------+---------+\n",
      "|2241.4826983982853|        1610|(2,[],[])|\n",
      "|2241.4826983982853|        1663|(2,[],[])|\n",
      "|2241.4826983982853|        1768|(2,[],[])|\n",
      "|2241.4826983982853|        1786|(2,[],[])|\n",
      "|2241.4826983982853|        1803|(2,[],[])|\n",
      "+------------------+------------+---------+\n",
      "only showing top 5 rows\n",
      "\n",
      "Mean Absolute Error on test data = 208.093\n",
      "+------------------+------------+---------+\n",
      "|        prediction|black_rating| features|\n",
      "+------------------+------------+---------+\n",
      "|2248.6165070516213|        1707|(2,[],[])|\n",
      "|2248.6165070516213|        1729|(2,[],[])|\n",
      "|2248.6165070516213|        1933|(2,[],[])|\n",
      "|2248.6165070516213|        1946|(2,[],[])|\n",
      "|2248.6165070516213|        1953|(2,[],[])|\n",
      "+------------------+------------+---------+\n",
      "only showing top 5 rows\n",
      "\n",
      "Mean Absolute Error on test data = 210.153\n"
     ]
    }
   ],
   "source": [
    "df_temp = df.filter(df.result==-1)\n",
    "vectorAssembler = VectorAssembler(inputCols = ['result','score'], outputCol = \"features\")\n",
    "df_temp = vectorAssembler.transform(df)\n",
    "white_df = df_temp.select(['features', 'white_rating'])\n",
    "black_df = df_temp.select(['features','black_rating'])\n",
    "\n",
    "splits = white_df.randomSplit([0.8, 0.2])\n",
    "train_df = splits[0]\n",
    "test_df = splits[1]\n",
    "lr = LinearRegression(featuresCol = 'features', labelCol='white_rating', maxIter=10, regParam=0.3, elasticNetParam=0.8)\n",
    "lr_model_white_m1 = lr.fit(train_df)\n",
    "lr_predictions = lr_model_white_m1.transform(test_df)\n",
    "lr_predictions.select(\"prediction\",\"white_rating\",\"features\").show(5)\n",
    "\n",
    "test_result = lr_model_white_m1.evaluate(test_df)\n",
    "print(\"Mean Absolute Error on test data = %g\" % test_result.meanAbsoluteError)\n",
    "\n",
    "splits = black_df.randomSplit([0.8, 0.2])\n",
    "train_df = splits[0]\n",
    "test_df = splits[1]\n",
    "lr = LinearRegression(featuresCol = 'features', labelCol='black_rating', maxIter=10, regParam=0.3, elasticNetParam=0.8)\n",
    "lr_model_black_m1 = lr.fit(train_df)\n",
    "lr_predictions = lr_model_black_m1.transform(test_df)\n",
    "lr_predictions.select(\"prediction\",\"black_rating\",\"features\").show(5)\n",
    "\n",
    "test_result = lr_model_black_m1.evaluate(test_df)\n",
    "print(\"Mean Absolute Error on test data = %g\" % test_result.meanAbsoluteError)"
   ]
  },
  {
   "cell_type": "code",
   "execution_count": 8,
   "metadata": {},
   "outputs": [
    {
     "name": "stdout",
     "output_type": "stream",
     "text": [
      "+-----------------+------------+---------+\n",
      "|       prediction|white_rating| features|\n",
      "+-----------------+------------+---------+\n",
      "|2238.774254696699|        1690|(2,[],[])|\n",
      "|2238.774254696699|        1725|(2,[],[])|\n",
      "|2238.774254696699|        1768|(2,[],[])|\n",
      "|2238.774254696699|        1824|(2,[],[])|\n",
      "|2238.774254696699|        1865|(2,[],[])|\n",
      "+-----------------+------------+---------+\n",
      "only showing top 5 rows\n",
      "\n",
      "Mean Absolute Error on test data = 207.024\n",
      "+------------------+------------+---------+\n",
      "|        prediction|black_rating| features|\n",
      "+------------------+------------+---------+\n",
      "|2248.9015819588612|        1755|(2,[],[])|\n",
      "|2248.9015819588612|        1824|(2,[],[])|\n",
      "|2248.9015819588612|        1880|(2,[],[])|\n",
      "|2248.9015819588612|        1946|(2,[],[])|\n",
      "|2248.9015819588612|        1948|(2,[],[])|\n",
      "+------------------+------------+---------+\n",
      "only showing top 5 rows\n",
      "\n",
      "Mean Absolute Error on test data = 210.594\n"
     ]
    }
   ],
   "source": [
    "df_temp = df.filter(df.result==0)\n",
    "vectorAssembler = VectorAssembler(inputCols = ['result','score'], outputCol = \"features\")\n",
    "df_temp = vectorAssembler.transform(df)\n",
    "white_df = df_temp.select(['features', 'white_rating'])\n",
    "black_df = df_temp.select(['features','black_rating'])\n",
    "\n",
    "splits = white_df.randomSplit([0.8, 0.2])\n",
    "train_df = splits[0]\n",
    "test_df = splits[1]\n",
    "lr = LinearRegression(featuresCol = 'features', labelCol='white_rating', maxIter=10, regParam=0.3, elasticNetParam=0.8)\n",
    "lr_model_white_0 = lr.fit(train_df)\n",
    "lr_predictions = lr_model_white_0.transform(test_df)\n",
    "lr_predictions.select(\"prediction\",\"white_rating\",\"features\").show(5)\n",
    "\n",
    "test_result = lr_model_white_0.evaluate(test_df)\n",
    "print(\"Mean Absolute Error on test data = %g\" % test_result.meanAbsoluteError)\n",
    "\n",
    "splits = black_df.randomSplit([0.8, 0.2])\n",
    "train_df = splits[0]\n",
    "test_df = splits[1]\n",
    "lr = LinearRegression(featuresCol = 'features', labelCol='black_rating', maxIter=10, regParam=0.3, elasticNetParam=0.8)\n",
    "lr_model_black_0 = lr.fit(train_df)\n",
    "lr_predictions = lr_model_black_0.transform(test_df)\n",
    "lr_predictions.select(\"prediction\",\"black_rating\",\"features\").show(5)\n",
    "\n",
    "test_result = lr_model_black_0.evaluate(test_df)\n",
    "print(\"Mean Absolute Error on test data = %g\" % test_result.meanAbsoluteError)"
   ]
  },
  {
   "cell_type": "code",
   "execution_count": 9,
   "metadata": {
    "scrolled": false
   },
   "outputs": [
    {
     "name": "stdout",
     "output_type": "stream",
     "text": [
      "+------------------+------------+---------+\n",
      "|        prediction|white_rating| features|\n",
      "+------------------+------------+---------+\n",
      "|2238.8871724641476|        1725|(2,[],[])|\n",
      "|2238.8871724641476|        1846|(2,[],[])|\n",
      "|2238.8871724641476|        1872|(2,[],[])|\n",
      "|2238.8871724641476|        1902|(2,[],[])|\n",
      "|2238.8871724641476|        1966|(2,[],[])|\n",
      "+------------------+------------+---------+\n",
      "only showing top 5 rows\n",
      "\n",
      "Mean Absolute Error on test data = 206.38\n",
      "+------------------+------------+---------+\n",
      "|        prediction|black_rating| features|\n",
      "+------------------+------------+---------+\n",
      "|2249.5503246218996|        1729|(2,[],[])|\n",
      "|2249.5503246218996|        1779|(2,[],[])|\n",
      "|2249.5503246218996|        1797|(2,[],[])|\n",
      "|2249.5503246218996|        1812|(2,[],[])|\n",
      "|2249.5503246218996|        1824|(2,[],[])|\n",
      "+------------------+------------+---------+\n",
      "only showing top 5 rows\n",
      "\n",
      "Mean Absolute Error on test data = 213.579\n"
     ]
    }
   ],
   "source": [
    "df_temp = df.filter(df.result==1)\n",
    "vectorAssembler = VectorAssembler(inputCols = ['result','score'], outputCol = \"features\")\n",
    "df_temp = vectorAssembler.transform(df)\n",
    "white_df = df_temp.select(['features', 'white_rating'])\n",
    "black_df = df_temp.select(['features','black_rating'])\n",
    "\n",
    "splits = white_df.randomSplit([0.8, 0.2])\n",
    "train_df = splits[0]\n",
    "test_df = splits[1]\n",
    "lr = LinearRegression(featuresCol = 'features', labelCol='white_rating', maxIter=10, regParam=0.3, elasticNetParam=0.8)\n",
    "lr_model_white_1 = lr.fit(train_df)\n",
    "lr_predictions = lr_model_white_1.transform(test_df)\n",
    "lr_predictions.select(\"prediction\",\"white_rating\",\"features\").show(5)\n",
    "\n",
    "test_result = lr_model_white_1.evaluate(test_df)\n",
    "print(\"Mean Absolute Error on test data = %g\" % test_result.meanAbsoluteError)\n",
    "\n",
    "splits = black_df.randomSplit([0.8, 0.2])\n",
    "train_df = splits[0]\n",
    "test_df = splits[1]\n",
    "lr = LinearRegression(featuresCol = 'features', labelCol='black_rating', maxIter=10, regParam=0.3, elasticNetParam=0.8)\n",
    "lr_model_black_1 = lr.fit(train_df)\n",
    "lr_predictions = lr_model_black_1.transform(test_df)\n",
    "lr_predictions.select(\"prediction\",\"black_rating\",\"features\").show(5)\n",
    "\n",
    "test_result = lr_model_black_1.evaluate(test_df)\n",
    "print(\"Mean Absolute Error on test data = %g\" % test_result.meanAbsoluteError)"
   ]
  },
  {
   "cell_type": "code",
   "execution_count": 10,
   "metadata": {},
   "outputs": [],
   "source": [
    "games = sc.textFile('data_uci.pgn')\n",
    "games = games.map(lambda l:l.rstrip())\n",
    "\n",
    "result = games.filter(lambda l:\"Result\" in l).map(lambda l: myfunc(l)).zipWithIndex().filter(lambda vi: vi[1] >= 25000).map(lambda l:(l[1],l[0]))\n",
    "stockfish = sc.textFile('stockfish.csv').filter(lambda l: 'Event' not in l).map(lambda l:[0]+[int(x) for x in l.split(',')[1].split(\" \") if x!=''])\\\n",
    ".map(lambda l: eval_moves(l)).zipWithIndex().filter(lambda vi: vi[1] >= 25000).map(lambda l:(l[1],l[0]))"
   ]
  },
  {
   "cell_type": "code",
   "execution_count": 11,
   "metadata": {},
   "outputs": [],
   "source": [
    "test_set = result.join(stockfish).map(lambda l:[l[0]+1,l[1][0],l[1][1]]).toDF(['Event','result','score'])\n",
    "vectorAssembler = VectorAssembler(inputCols = ['result','score'], outputCol = \"features\")\n",
    "\n",
    "test_set_m1 = vectorAssembler.transform(test_set.filter(test_set.result==-1))\n",
    "test_set_0 = vectorAssembler.transform(test_set.filter(test_set.result==0))\n",
    "test_set_1 = vectorAssembler.transform(test_set.filter(test_set.result==1))\n",
    "\n",
    "test_set_white_m1 = lr_model_white_m1.transform(test_set_m1)\n",
    "test_set_white_0 = lr_model_white_0.transform(test_set_0)\n",
    "test_set_white_1 = lr_model_white_1.transform(test_set_1)\n",
    "\n",
    "\n",
    "test_set_black_m1 = lr_model_black_m1.transform(test_set_m1)\n",
    "test_set_black_0 = lr_model_black_0.transform(test_set_0)\n",
    "test_set_black_1 = lr_model_black_1.transform(test_set_1)\n",
    "\n",
    "\n",
    "\n",
    "\n",
    "\n",
    "black_m1 = test_set_black_m1.select('Event','prediction').toPandas()\n",
    "black_1 = test_set_black_1.select('Event','prediction').toPandas()\n",
    "black_0 = test_set_black_0.select('Event','prediction').toPandas()\n",
    "\n",
    "black_m1.columns=['Event','BlackElo']\n",
    "black_0.columns=['Event','BlackElo']\n",
    "black_1.columns=['Event','BlackElo']\n",
    "\n",
    "white_m1 = test_set_white_m1.select('Event','prediction').toPandas()\n",
    "white_1 = test_set_white_1.select('Event','prediction').toPandas()\n",
    "white_0 = test_set_white_0.select('Event','prediction').toPandas()\n",
    "\n",
    "\n",
    "white_m1.columns=['Event','WhiteElo']\n",
    "white_0.columns=['Event','WhiteElo']\n",
    "white_1.columns = ['Event','WhiteElo']\n",
    "\n"
   ]
  },
  {
   "cell_type": "code",
   "execution_count": 12,
   "metadata": {},
   "outputs": [],
   "source": [
    "black = black_m1.append(black_0).append(black_1)\n",
    "white = white_m1.append(white_0).append(white_1)"
   ]
  },
  {
   "cell_type": "code",
   "execution_count": 13,
   "metadata": {},
   "outputs": [],
   "source": [
    "\n",
    "white['BlackElo'] = black.BlackElo\n",
    "white.sort_values(by='Event').set_index('Event').to_csv('Segmented_LR.csv')"
   ]
  }
 ],
 "metadata": {
  "kernelspec": {
   "display_name": "Python 3",
   "language": "python",
   "name": "python3"
  },
  "language_info": {
   "codemirror_mode": {
    "name": "ipython",
    "version": 2
   },
   "file_extension": ".py",
   "mimetype": "text/x-python",
   "name": "python",
   "nbconvert_exporter": "python",
   "pygments_lexer": "ipython2",
   "version": "2.7.15+"
  }
 },
 "nbformat": 4,
 "nbformat_minor": 2
}
