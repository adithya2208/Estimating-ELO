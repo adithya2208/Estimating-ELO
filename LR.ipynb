{
 "cells": [
  {
   "cell_type": "code",
   "execution_count": 1,
   "metadata": {},
   "outputs": [],
   "source": [
    "import pyspark\n",
    "import os\n",
    "import sys\n",
    "import pandas as pd\n",
    "import numpy as np\n",
    "import matplotlib.pyplot as plt \n",
    "from matplotlib.pyplot import figure\n",
    "from pyspark.ml.regression import LinearRegression\n",
    "from pyspark.ml.feature import VectorAssembler\n",
    "from pyspark.sql import SparkSession\n",
    "from pyspark.sql import SQLContext\n"
   ]
  },
  {
   "cell_type": "code",
   "execution_count": 2,
   "metadata": {
    "scrolled": true
   },
   "outputs": [],
   "source": [
    "os.chdir('../Project/finding-elo/')\n",
    "sc = pyspark.SparkContext()\n",
    "spark = SparkSession(sc)\n",
    "sqlContext = SQLContext(sc)"
   ]
  },
  {
   "cell_type": "code",
   "execution_count": 3,
   "metadata": {},
   "outputs": [],
   "source": [
    "games = sc.textFile('data_uci.pgn')\n",
    "games = games.map(lambda l:l.rstrip())"
   ]
  },
  {
   "cell_type": "code",
   "execution_count": 4,
   "metadata": {},
   "outputs": [],
   "source": [
    "def myfunc(a):\n",
    "    if \"1/2\" in a:\n",
    "        return 0\n",
    "    if \"1-0\" in a:\n",
    "        return 1\n",
    "    else:\n",
    "        return -1\n",
    "\n",
    "def eval_moves(moves):\n",
    "    score = 0\n",
    "    for i in range(len(moves)-1):\n",
    "        score = score + moves[i+1] - moves[i]\n",
    "    return score\n",
    "        "
   ]
  },
  {
   "cell_type": "code",
   "execution_count": 5,
   "metadata": {},
   "outputs": [],
   "source": [
    "result = games.filter(lambda l:\"Result\" in l).map(lambda l: myfunc(l)).zipWithIndex().filter(lambda vi: vi[1] < 25000).map(lambda l:(l[1],l[0]))\n",
    "whiteelo = games.filter(lambda l: \"WhiteElo\" in l).map(lambda l:int(l.split()[1][1:5])).zipWithIndex().map(lambda l:(l[1],l[0]))\n",
    "blackelo = games.filter(lambda l: \"BlackElo\" in l).map(lambda l:int(l.split()[1][1:5])).zipWithIndex().map(lambda l:(l[1],l[0]))\n",
    "stockfish = sc.textFile('stockfish.csv').filter(lambda l: 'Event' not in l).map(lambda l:[0]+[int(x) for x in l.split(',')[1].split(\" \") if x!=''])\\\n",
    ".map(lambda l: eval_moves(l)).zipWithIndex().filter(lambda vi: vi[1] < 25000).map(lambda l:(l[1],l[0]))\n"
   ]
  },
  {
   "cell_type": "code",
   "execution_count": 6,
   "metadata": {},
   "outputs": [],
   "source": [
    "temp = whiteelo.join(blackelo).join(result).join(stockfish).map(lambda l:[l[1][0][0][0],l[1][0][0][1],l[1][0][0][0]-l[1][0][0][1],l[1][0][1],l[1][1]])\n",
    "df = temp.toDF(['white_rating','black_rating','rating_diff','result','score'])\n"
   ]
  },
  {
   "cell_type": "code",
   "execution_count": 7,
   "metadata": {},
   "outputs": [
    {
     "name": "stdout",
     "output_type": "stream",
     "text": [
      "+------------------+------------+---------+\n",
      "|        prediction|white_rating| features|\n",
      "+------------------+------------+---------+\n",
      "|2240.7858177972203|        1546|(2,[],[])|\n",
      "|2240.7858177972203|        1663|(2,[],[])|\n",
      "|2240.7858177972203|        1725|(2,[],[])|\n",
      "|2240.7858177972203|        1786|(2,[],[])|\n",
      "|2240.7858177972203|        1846|(2,[],[])|\n",
      "+------------------+------------+---------+\n",
      "only showing top 5 rows\n",
      "\n"
     ]
    }
   ],
   "source": [
    "vectorAssembler = VectorAssembler(inputCols = ['result','score'], outputCol = \"features\")\n",
    "df = vectorAssembler.transform(df)\n",
    "white_df = df.select(['features', 'white_rating'])\n",
    "black_df = df.select(['features','black_rating'])\n",
    "\n",
    "\n",
    "splits = white_df.randomSplit([0.8, 0.2])\n",
    "train_df = splits[0]\n",
    "test_df = splits[1]\n",
    "\n",
    "lr = LinearRegression(featuresCol = 'features', labelCol='white_rating', maxIter=10)\n",
    "lr_model_white = lr.fit(train_df)\n",
    "lr_predictions = lr_model_white.transform(test_df)\n",
    "lr_predictions.select(\"prediction\",\"white_rating\",\"features\").show(5)\n"
   ]
  },
  {
   "cell_type": "code",
   "execution_count": 8,
   "metadata": {
    "scrolled": false
   },
   "outputs": [
    {
     "name": "stdout",
     "output_type": "stream",
     "text": [
      "Mean Absolute Error on test data = 207.878\n"
     ]
    }
   ],
   "source": [
    "test_result = lr_model_white.evaluate(test_df)\n",
    "print(\"Mean Absolute Error on test data = %g\" % test_result.meanAbsoluteError)"
   ]
  },
  {
   "cell_type": "code",
   "execution_count": 9,
   "metadata": {},
   "outputs": [
    {
     "name": "stdout",
     "output_type": "stream",
     "text": [
      "Coefficients: [83.33791284703067,-0.003070669091188753]\n",
      "Intercept: 2240.7858178\n"
     ]
    }
   ],
   "source": [
    "print(\"Coefficients: %s\" % str(lr_model_white.coefficients))\n",
    "print(\"Intercept: %s\" % str(lr_model_white.intercept))\n"
   ]
  },
  {
   "cell_type": "code",
   "execution_count": 10,
   "metadata": {},
   "outputs": [
    {
     "name": "stdout",
     "output_type": "stream",
     "text": [
      "+-----------------+------------+---------+\n",
      "|       prediction|black_rating| features|\n",
      "+-----------------+------------+---------+\n",
      "|2249.437157063427|        1783|(2,[],[])|\n",
      "|2249.437157063427|        1826|(2,[],[])|\n",
      "|2249.437157063427|        1881|(2,[],[])|\n",
      "|2249.437157063427|        1948|(2,[],[])|\n",
      "|2249.437157063427|        1953|(2,[],[])|\n",
      "+-----------------+------------+---------+\n",
      "only showing top 5 rows\n",
      "\n"
     ]
    }
   ],
   "source": [
    "splits = black_df.randomSplit([0.8, 0.2])\n",
    "train_df = splits[0]\n",
    "test_df = splits[1]\n",
    "lr = LinearRegression(featuresCol = 'features', labelCol='black_rating', maxIter=10)\n",
    "lr_model_black = lr.fit(train_df)\n",
    "lr_predictions = lr_model_black.transform(test_df)\n",
    "lr_predictions.select(\"prediction\",\"black_rating\",\"features\").show(5)"
   ]
  },
  {
   "cell_type": "code",
   "execution_count": 11,
   "metadata": {},
   "outputs": [
    {
     "name": "stdout",
     "output_type": "stream",
     "text": [
      "Mean Absolute Error on test data = 212.986\n"
     ]
    }
   ],
   "source": [
    "test_result = lr_model_black.evaluate(test_df)\n",
    "print(\"Mean Absolute Error on test data = %g\" % test_result.meanAbsoluteError)"
   ]
  },
  {
   "cell_type": "code",
   "execution_count": 12,
   "metadata": {},
   "outputs": [
    {
     "name": "stdout",
     "output_type": "stream",
     "text": [
      "Coefficients: [-74.05454613000913,0.0012050826923506567]\n",
      "Intercept: 2249.43715706\n"
     ]
    }
   ],
   "source": [
    "print(\"Coefficients: %s\" % str(lr_model_black.coefficients))\n",
    "print(\"Intercept: %s\" % str(lr_model_black.intercept))\n",
    "\n"
   ]
  },
  {
   "cell_type": "code",
   "execution_count": 13,
   "metadata": {},
   "outputs": [],
   "source": [
    "games = sc.textFile('data_uci.pgn')\n",
    "games = games.map(lambda l:l.rstrip())"
   ]
  },
  {
   "cell_type": "code",
   "execution_count": 14,
   "metadata": {},
   "outputs": [],
   "source": [
    "result = games.filter(lambda l:\"Result\" in l).map(lambda l: myfunc(l)).zipWithIndex().filter(lambda vi: vi[1] >= 25000).map(lambda l:(l[1],l[0]))\n",
    "stockfish = sc.textFile('stockfish.csv').filter(lambda l: 'Event' not in l).map(lambda l:[0]+[int(x) for x in l.split(',')[1].split(\" \") if x!=''])\\\n",
    ".map(lambda l: eval_moves(l)).zipWithIndex().filter(lambda vi: vi[1] >= 25000).map(lambda l:(l[1],l[0]))"
   ]
  },
  {
   "cell_type": "code",
   "execution_count": 15,
   "metadata": {},
   "outputs": [],
   "source": [
    "test_set = result.join(stockfish).map(lambda l:[l[0]+1,l[1][0],l[1][1]]).toDF(['Event','result','score'])\n",
    "vectorAssembler = VectorAssembler(inputCols = ['result','score'], outputCol = \"features\")\n",
    "test_set = vectorAssembler.transform(test_set)\n",
    "test_set_white = lr_model_white.transform(test_set)\n",
    "test_set_black = lr_model_black.transform(test_set)\n",
    "\n",
    "black = test_set_black.select('Event','prediction').toPandas()\n",
    "black.columns=['Event','BlackElo']\n",
    "\n",
    "white = test_set_white.select('Event','prediction').toPandas()\n",
    "white.columns = ['Event','WhiteElo']\n",
    "\n"
   ]
  },
  {
   "cell_type": "code",
   "execution_count": 16,
   "metadata": {},
   "outputs": [],
   "source": [
    "\n",
    "white['BlackElo'] = black.BlackElo\n",
    "white.sort_values(by='Event').set_index('Event').to_csv('LR.csv')"
   ]
  }
 ],
 "metadata": {
  "kernelspec": {
   "display_name": "Python 3",
   "language": "python",
   "name": "python3"
  },
  "language_info": {
   "codemirror_mode": {
    "name": "ipython",
    "version": 2
   },
   "file_extension": ".py",
   "mimetype": "text/x-python",
   "name": "python",
   "nbconvert_exporter": "python",
   "pygments_lexer": "ipython2",
   "version": "2.7.15+"
  }
 },
 "nbformat": 4,
 "nbformat_minor": 2
}
