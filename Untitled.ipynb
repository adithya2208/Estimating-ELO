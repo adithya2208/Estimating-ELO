{
 "cells": [
  {
   "cell_type": "code",
   "execution_count": null,
   "metadata": {},
   "outputs": [],
   "source": [
    "import pyspark\n",
    "import os\n",
    "import sys\n",
    "import pandas as pd\n",
    "import numpy as np\n",
    "import matplotlib.pyplot as plt \n",
    "from matplotlib.pyplot import figure\n",
    "from sklearn.linear_model import LinearRegression"
   ]
  },
  {
   "cell_type": "code",
   "execution_count": 2,
   "metadata": {},
   "outputs": [],
   "source": [
    "os.chdir('../Project/finding-elo/')\n",
    "#sc = pyspark.SparkContext()"
   ]
  },
  {
   "cell_type": "code",
   "execution_count": 3,
   "metadata": {},
   "outputs": [
    {
     "data": {
      "text/plain": [
       "['[Event \"25000\"]',\n",
       " '[Site \"kaggle.com\"]',\n",
       " '[Date \"??\"]',\n",
       " '[Round \"??\"]',\n",
       " '[White \"??\"]',\n",
       " '[Black \"??\"]',\n",
       " '[Result \"0-1\"]',\n",
       " '[WhiteElo \"1717\"]',\n",
       " '[BlackElo \"2098\"]',\n",
       " '',\n",
       " 'e2e4 c7c5 g1f3 d7d6 d2d4 c5d4 f3d4 g8f6 b1c3 b8c6 c1g5 e7e6 d1d2 f8e7 f1e2 e8g8 e1c1 a7a6 f2f4 d8c7 e2f3 a8b8 h2h4 h7h6 g5f6 e7f6 d4c6 b7c6 b2b3 c7a5 c3a4 a5a4 b3a4 f6b2 c1b1 b2c3 b1c1 c3d2 d1d2 d6d5 c2c3 a6a5 d2b2 c8a6 b2b8 f8b8 c1c2 g8f8 e4e5 a6c4 h1b1 c4d3 c2d3 b8b1 d3c2 b1f1 c2b3 h6h5 b3c2 g7g6 c2b3 f8e7 b3c2 f1a1 c2b2 a1h1 0-1',\n",
       " '']"
      ]
     },
     "execution_count": 3,
     "metadata": {},
     "output_type": "execute_result"
    }
   ],
   "source": [
    "\n",
    "with open('data_uci.pgn') as f:\n",
    "    games = f.readlines()\n",
    "for i in range(len(games)):\n",
    "    games[i] = games[i].rstrip()\n",
    "\n",
    "train = games[0:300000]\n",
    "test = games[300000:]\n",
    "\n",
    "train[-12:]"
   ]
  },
  {
   "cell_type": "code",
   "execution_count": 4,
   "metadata": {},
   "outputs": [],
   "source": [
    "result,whiteelo,blackelo = [],[],[]\n",
    "for i in train:\n",
    "    if \"Result\" in i:\n",
    "        result.append(i)\n",
    "    elif \"WhiteElo\" in i:\n",
    "        whiteelo.append(i)\n",
    "    elif \"BlackElo\" in i:\n",
    "        blackelo.append(i)\n",
    "    \n",
    "for i in range(len(result)):\n",
    "    if result[i][10] == '/':\n",
    "        result[i] = 0.5\n",
    "    elif result[i][9] == '0':\n",
    "        result[i] = 0\n",
    "    else:\n",
    "        result[i] = 1\n",
    "    blackelo[i] = int(blackelo[i].split()[1][1:5])\n",
    "    whiteelo[i] = int(whiteelo[i].split()[1][1:5])\n",
    "\n"
   ]
  },
  {
   "cell_type": "code",
   "execution_count": 5,
   "metadata": {},
   "outputs": [
    {
     "name": "stdout",
     "output_type": "stream",
     "text": [
      "(25000, 25000, 25000)\n"
     ]
    }
   ],
   "source": [
    "print(len(result),len(whiteelo),len(blackelo))"
   ]
  },
  {
   "cell_type": "code",
   "execution_count": 6,
   "metadata": {},
   "outputs": [],
   "source": [
    "stockfish = pd.read_csv('stockfish.csv')"
   ]
  },
  {
   "cell_type": "code",
   "execution_count": 20,
   "metadata": {},
   "outputs": [],
   "source": [
    "#sc.stop()"
   ]
  },
  {
   "cell_type": "code",
   "execution_count": 88,
   "metadata": {},
   "outputs": [],
   "source": [
    "score_list = []\n",
    "for i in stockfish.MoveScores[0:25000]:\n",
    "    x=i.split()\n",
    "    while 'NA' in x:\n",
    "        x.remove('NA')\n",
    "    x = [int(i) for i in x]\n",
    "    x=[0]+x\n",
    "    score_list.append(x)"
   ]
  },
  {
   "cell_type": "code",
   "execution_count": 77,
   "metadata": {},
   "outputs": [],
   "source": [
    "def eval_moves(moves):\n",
    "    score = 0\n",
    "    for i in range(len(moves)-1):\n",
    "        score = score + moves[i+1] - moves[i]\n",
    "    return score\n",
    "        \n",
    "    \n",
    "    \n",
    "    \n",
    "    "
   ]
  },
  {
   "cell_type": "code",
   "execution_count": 93,
   "metadata": {},
   "outputs": [
    {
     "data": {
      "text/plain": [
       "-11544"
      ]
     },
     "execution_count": 93,
     "metadata": {},
     "output_type": "execute_result"
    }
   ],
   "source": [
    "eval_moves(score_list[2])"
   ]
  },
  {
   "cell_type": "code",
   "execution_count": 94,
   "metadata": {},
   "outputs": [
    {
     "data": {
      "text/plain": [
       "[0,\n",
       " 26,\n",
       " 51,\n",
       " 68,\n",
       " 57,\n",
       " 65,\n",
       " 77,\n",
       " 48,\n",
       " 93,\n",
       " 61,\n",
       " 63,\n",
       " 63,\n",
       " 58,\n",
       " 53,\n",
       " 46,\n",
       " 69,\n",
       " 29,\n",
       " 30,\n",
       " 27,\n",
       " -2,\n",
       " 12,\n",
       " -11,\n",
       " 0,\n",
       " -17,\n",
       " 24,\n",
       " 5,\n",
       " 15,\n",
       " 16,\n",
       " 31,\n",
       " 44,\n",
       " 25,\n",
       " 18,\n",
       " 20,\n",
       " 27,\n",
       " 26,\n",
       " 18,\n",
       " 14,\n",
       " 18,\n",
       " 20,\n",
       " 10,\n",
       " 2,\n",
       " 7,\n",
       " 22,\n",
       " -28,\n",
       " -26,\n",
       " -30,\n",
       " -34,\n",
       " -29,\n",
       " -28,\n",
       " -49,\n",
       " -55,\n",
       " -51,\n",
       " -50,\n",
       " -82,\n",
       " -74,\n",
       " -83,\n",
       " -77,\n",
       " -92,\n",
       " -72,\n",
       " -105,\n",
       " -99,\n",
       " -106,\n",
       " -93,\n",
       " -129,\n",
       " -79,\n",
       " -87,\n",
       " -63,\n",
       " -66,\n",
       " -23,\n",
       " -34,\n",
       " -47,\n",
       " -37,\n",
       " -49,\n",
       " -76,\n",
       " -110,\n",
       " -90,\n",
       " -116,\n",
       " -193,\n",
       " -103,\n",
       " -144,\n",
       " -106,\n",
       " -108,\n",
       " -69,\n",
       " -80,\n",
       " -93,\n",
       " -96,\n",
       " -86,\n",
       " -105,\n",
       " -111,\n",
       " -138,\n",
       " 25,\n",
       " -342,\n",
       " -335,\n",
       " -507,\n",
       " -534,\n",
       " -523,\n",
       " -494,\n",
       " -2427,\n",
       " -3977,\n",
       " -5009,\n",
       " -5103,\n",
       " -6282,\n",
       " -1273,\n",
       " -10851,\n",
       " -10958,\n",
       " -10866,\n",
       " -11544]"
      ]
     },
     "execution_count": 94,
     "metadata": {},
     "output_type": "execute_result"
    }
   ],
   "source": [
    "score_list[2]"
   ]
  },
  {
   "cell_type": "code",
   "execution_count": 108,
   "metadata": {},
   "outputs": [
    {
     "data": {
      "text/plain": [
       "[0, -84, -11544]"
      ]
     },
     "execution_count": 108,
     "metadata": {},
     "output_type": "execute_result"
    }
   ],
   "source": [
    "features = []\n",
    "for i in range(25000):\n",
    "    features.append([result[i],whiteelo[i]-blackelo[i],eval_moves(score_list[i])])\n",
    "features[2]\n"
   ]
  },
  {
   "cell_type": "code",
   "execution_count": 110,
   "metadata": {},
   "outputs": [
    {
     "data": {
      "text/plain": [
       "<Figure size 960x800 with 0 Axes>"
      ]
     },
     "execution_count": 110,
     "metadata": {},
     "output_type": "execute_result"
    },
    {
     "data": {
      "text/plain": [
       "<Figure size 960x800 with 0 Axes>"
      ]
     },
     "metadata": {},
     "output_type": "display_data"
    }
   ],
   "source": [
    "figure(num=None, figsize=(12, 10), dpi=80, facecolor='w', edgecolor='k')"
   ]
  },
  {
   "cell_type": "code",
   "execution_count": null,
   "metadata": {},
   "outputs": [],
   "source": []
  }
 ],
 "metadata": {
  "kernelspec": {
   "display_name": "Python 3",
   "language": "python",
   "name": "python3"
  },
  "language_info": {
   "codemirror_mode": {
    "name": "ipython",
    "version": 2
   },
   "file_extension": ".py",
   "mimetype": "text/x-python",
   "name": "python",
   "nbconvert_exporter": "python",
   "pygments_lexer": "ipython2",
   "version": "2.7.15+"
  }
 },
 "nbformat": 4,
 "nbformat_minor": 2
}
